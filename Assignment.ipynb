{
 "cells": [
  {
   "cell_type": "code",
   "execution_count": 17,
   "metadata": {},
   "outputs": [
    {
     "name": "stdout",
     "output_type": "stream",
     "text": [
      "Enter a string :google.com\n",
      "{'o': 3, 'm': 1, 'l': 1, 'g': 2, 'e': 1, 'c': 1, '.': 1}\n"
     ]
    }
   ],
   "source": [
    "\"\"\"\n",
    "1. Write a Python program to count the number of characters (character frequency) in a string\n",
    "Sample String : google.com'\n",
    "Expected Result : {'o': 3, 'g': 2, '.': 1, 'e': 1, 'l': 1, 'm': 1, 'c': 1}\n",
    "\"\"\"\n",
    "import operator\n",
    "String=input(\"Enter a string :\")\n",
    "char = {}\n",
    "for i in String:\n",
    "    char[i]=String.count(i)\n",
    "print(dict(sorted(char.items(),reverse=True)))"
   ]
  },
  {
   "cell_type": "code",
   "execution_count": 18,
   "metadata": {},
   "outputs": [
    {
     "name": "stdout",
     "output_type": "stream",
     "text": [
      "9\n"
     ]
    }
   ],
   "source": [
    "#3. Write a Python function that takes a list of words and returns the length of the longest one\n",
    "def maxx(lst):\n",
    "    var=[]\n",
    "    for i in lst:\n",
    "        var.append(len(i))\n",
    "    var.sort()\n",
    "    print(var[-1])\n",
    "        \n",
    "maxx(lst=[\"abcd\",\"Shahnawaz\",\"kims\",\"A\",\"jds\",'Long'])"
   ]
  },
  {
   "cell_type": "code",
   "execution_count": 20,
   "metadata": {},
   "outputs": [
    {
     "name": "stdout",
     "output_type": "stream",
     "text": [
      "Enter a sentence  :hi bro!i want to get internship in your company bro. Internship in this summer. \n",
      "{'hi': 1, 'bro!i': 1, 'want': 1, 'to': 1, 'get': 1, 'internship': 1, 'in': 2, 'your': 1, 'company': 1, 'bro.': 1, 'Internship': 1, 'this': 1, 'summer.': 1}\n"
     ]
    }
   ],
   "source": [
    "#4. Write a Python program to count the occurrences of each word in a given sentence\n",
    "sentence=input(\"Enter a sentence  :\")\n",
    "occurance={}\n",
    "sentence=sentence.split()\n",
    "for i in sentence:\n",
    "    occurance[i]=sentence.count(i)\n",
    "print(occurance)"
   ]
  },
  {
   "cell_type": "code",
   "execution_count": 21,
   "metadata": {},
   "outputs": [
    {
     "name": "stdout",
     "output_type": "stream",
     "text": [
      "Enter a String  :PYthon progRamming\n",
      "PYTHON PROGRAMMING\n"
     ]
    }
   ],
   "source": [
    "#5. Write a Python function to convert a given string to all uppercase if it contains at least 2 uppercase characters in the first 4 characters.\n",
    "def upperCase(String):\n",
    "    count=0\n",
    "    for i in String[:4]:\n",
    "        if i.upper()==i:\n",
    "            count=count+1\n",
    "            \n",
    "    if(count >= 2):\n",
    "        print(String.upper())\n",
    "    else:\n",
    "        print(String)\n",
    "\n",
    "String=input(\"Enter a String  :\")\n",
    "upperCase(String)"
   ]
  },
  {
   "cell_type": "code",
   "execution_count": 22,
   "metadata": {},
   "outputs": [
    {
     "name": "stdout",
     "output_type": "stream",
     "text": [
      "Enter a string:hello brother\n",
      "e\n",
      "o\n",
      "o\n",
      "e\n",
      "vowels in given string is : 4\n"
     ]
    }
   ],
   "source": [
    "#6. Write a Python program to count and display the vowels of a given text\n",
    "count=0\n",
    "String=input(\"Enter a string:\")\n",
    "for i in String:\n",
    "    if (i=='A' or i=='a' or i=='E' or i=='e' or i=='I' or i=='i' or i=='O' or i=='o' or i=='U' or i=='u'):\n",
    "       count+=1\n",
    "       print(i)\n",
    "print(\"vowels in given string is :\",count)"
   ]
  },
  {
   "cell_type": "code",
   "execution_count": 23,
   "metadata": {},
   "outputs": [
    {
     "name": "stdout",
     "output_type": "stream",
     "text": [
      "The given list is Empty\n"
     ]
    }
   ],
   "source": [
    "#Python Data Type: List - Exercises\n",
    "#1. Write a Python program to check a list is empty or not\n",
    "def List(l):\n",
    "    if(len(l)==0):\n",
    "        print(\"The given list is Empty\")\n",
    "    else:\n",
    "        print(\"The given list is Not Empty\") \n",
    "l=[] #append elements in the list to get the else output: l[\"happy\"]\n",
    "List(l)"
   ]
  },
  {
   "cell_type": "code",
   "execution_count": 24,
   "metadata": {},
   "outputs": [
    {
     "name": "stdout",
     "output_type": "stream",
     "text": [
      "['a', 'b', 'c', 'd', 'e']\n"
     ]
    }
   ],
   "source": [
    "#2. Write a Python program to remove duplicates from a list.\n",
    "List=[\"a\",\"b\",\"c\",\"a\",\"d\",\"b\",\"c\",\"e\"]\n",
    "List1=[]\n",
    "for i in List:\n",
    "    if(i not in List1):\n",
    "        List1.append(i)\n",
    "print(List1)"
   ]
  },
  {
   "cell_type": "code",
   "execution_count": 25,
   "metadata": {},
   "outputs": [
    {
     "name": "stdout",
     "output_type": "stream",
     "text": [
      "True\n"
     ]
    }
   ],
   "source": [
    "#3. Write a Python function that takes two lists and returns True if they have at least one common member\n",
    "def Check(List,List1):\n",
    "    flag=0\n",
    "    for i in range(len(List)):\n",
    "        for j in range(0,i):\n",
    "            if(List[j]==List1[i]):\n",
    "                flag=1\n",
    "    if(flag==0):\n",
    "        print(\"False\")\n",
    "    else:\n",
    "        print(\"True\")\n",
    "\n",
    "List=['a',\"r\",\"c\",\"1\",\"s\",\"b\",\"c\",\"e\"]\n",
    "List1=['f','u','h','a','ad','1','l','m']\n",
    "Check(List,List1)"
   ]
  },
  {
   "cell_type": "code",
   "execution_count": 27,
   "metadata": {},
   "outputs": [
    {
     "name": "stdout",
     "output_type": "stream",
     "text": [
      "[1, 2, 3, 4, 7]\n"
     ]
    }
   ],
   "source": [
    "#4. Write a Python program to get the difference between the two lists\n",
    "List=[1,2,3,4,5,6]\n",
    "List1=[5,6,7]\n",
    "List2= [i for i in List + List1 if i not in List or i not in List1] \n",
    "print(List2)"
   ]
  },
  {
   "cell_type": "code",
   "execution_count": 28,
   "metadata": {},
   "outputs": [
    {
     "name": "stdout",
     "output_type": "stream",
     "text": [
      "8\n"
     ]
    }
   ],
   "source": [
    "#5. Write a Python program to find the second smallest number in a list\n",
    "List=[8,47,30,90,6,19,53,36]\n",
    "List.sort()\n",
    "print(List[1])"
   ]
  },
  {
   "cell_type": "code",
   "execution_count": 29,
   "metadata": {},
   "outputs": [
    {
     "name": "stdout",
     "output_type": "stream",
     "text": [
      "53\n"
     ]
    }
   ],
   "source": [
    "#6. Write a Python program to find the second largest number in a list\n",
    "List=[8,47,30,90,6,19,53,36]\n",
    "List.sort()\n",
    "print(List[-2])"
   ]
  },
  {
   "cell_type": "code",
   "execution_count": 30,
   "metadata": {},
   "outputs": [
    {
     "name": "stdout",
     "output_type": "stream",
     "text": [
      "{1: 4, 2: 5, 3: 4, 4: 2, 5: 5, 6: 2, 7: 2, 8: 1, 21: 1}\n"
     ]
    }
   ],
   "source": [
    "#7. Write a Python program to get the frequency of the elements in a list\n",
    "List=[1,2,3,1,2,4,1,5,2,4,6,7,6,8,1,2,3,5,2,5,7,5,3,21,3,5]\n",
    "frequency={}\n",
    "for i in List:\n",
    "    frequency[i]=List.count(i)\n",
    "print(frequency)"
   ]
  },
  {
   "cell_type": "code",
   "execution_count": 32,
   "metadata": {},
   "outputs": [
    {
     "name": "stdout",
     "output_type": "stream",
     "text": [
      "113350"
     ]
    }
   ],
   "source": [
    "\"\"\" \n",
    "8. Write a Python program to convert a list of multiple integers into a single integer\n",
    "Sample list: [11, 33, 50]\n",
    "Expected Output: 113350\n",
    "\"\"\"\n",
    "List=[11,33,50]\n",
    "for i in List:\n",
    "    print(i,end=\"\")"
   ]
  },
  {
   "cell_type": "code",
   "execution_count": 38,
   "metadata": {},
   "outputs": [
    {
     "name": "stdout",
     "output_type": "stream",
     "text": [
      "['red', 'orange']\n",
      "['black', 'yellow']\n"
     ]
    }
   ],
   "source": [
    "\n",
    "\"\"\"\"9. Write a Python program to compute the similarity between two lists.\n",
    "Sample data: [\"red\", \"orange\", \"green\", \"blue\", \"white\"], [\"black\", \"yellow\", \"green\", \"blue\"]\n",
    "Expected Output:\n",
    "Color1-Color2: ['white', 'orange', 'red']\n",
    "Color2-Color1: ['black', 'yellow']\n",
    "\"\"\"   \n",
    "l= [\"red\", \"orange\", \"green\", \"blue\", \"white\"]\n",
    "l1= [\"black\", \"yellow\", \"green\", \"blue\"]\n",
    "l2=[]\n",
    "l3=[]\n",
    "for i in range(len(l)-1):\n",
    "         if(l[i]!=l1[i]):\n",
    "            l2.append(l[i]) \n",
    "         if(l[i]!=l1[i]):\n",
    "            l3.append(l1[i])\n",
    "print(l2)\n",
    "print(l3)"
   ]
  },
  {
   "cell_type": "code",
   "execution_count": 39,
   "metadata": {},
   "outputs": [
    {
     "name": "stdout",
     "output_type": "stream",
     "text": [
      "False\n"
     ]
    }
   ],
   "source": [
    "#10. Write a Python program to check if all dictionaries in a list are empty or not.\n",
    "#Sample list : [{},{},{}]\n",
    "#Return value : True\n",
    "#Sample list : [{1,2},{},{}]\n",
    "#Return value : False\n",
    "flag=0\n",
    "List=[{},{},{1,2},{}]\n",
    "for i in List:\n",
    "    l=len(i)\n",
    "    if(l!=0):\n",
    "        flag=1\n",
    "if(flag==0):\n",
    "      print(\"True\")\n",
    "else:\n",
    "    print(\"False\")"
   ]
  },
  {
   "cell_type": "code",
   "execution_count": 40,
   "metadata": {},
   "outputs": [
    {
     "name": "stdout",
     "output_type": "stream",
     "text": [
      "Enter the n value:6\n",
      "{1: 1, 2: 4, 3: 9, 4: 16, 5: 25, 6: 36}\n"
     ]
    }
   ],
   "source": [
    "#Python Data Types: Dictionary\n",
    "#1. Write a Python script to generate and print a dictionary that contains a number (between 1 and n) in the form (x, x*x)\n",
    "#Sample Dictionary ( n = 5) :\n",
    "#Expected Output : {1: 1, 2: 4, 3: 9, 4: 16, 5: 25}\n",
    "n=int(input(\"Enter the n value:\"))\n",
    "sqrofdic={}\n",
    "for i in range(1,n+1):\n",
    "    sqrofdic[i]=i*i\n",
    "print(sqrofdic)"
   ]
  },
  {
   "cell_type": "code",
   "execution_count": 41,
   "metadata": {},
   "outputs": [
    {
     "name": "stdout",
     "output_type": "stream",
     "text": [
      "{'a': 400, 'b': 400, 'c': 300, 'd': 400}\n"
     ]
    }
   ],
   "source": [
    "#2. Write a Python program to combine two dictionary adding values for common keys\n",
    "#d1 = {'a': 100, 'b': 200, 'c':300}\n",
    "#d2 = {'a': 300, 'b': 200, 'd':400}\n",
    "#Sample output: Counter({'a': 400, 'b': 400, 'd': 400, 'c': 300})\n",
    "dic1 = {'a': 100, 'b': 200, 'c':300}\n",
    "dic2 = {'a': 300, 'b': 200, 'd':400}\n",
    "dic3 = dict(dic1)\n",
    "dic3=dict(dic1)\n",
    "dic3.update(dic2)\n",
    "for i,j in dic1.items():\n",
    "    for p,q in dic2.items():\n",
    "        if(i==p):\n",
    "            dic3[i]=(j+q)\n",
    "print(dic3)"
   ]
  },
  {
   "cell_type": "code",
   "execution_count": 42,
   "metadata": {},
   "outputs": [
    {
     "name": "stdout",
     "output_type": "stream",
     "text": [
      "unique Values:  {'S005', 'S002', 'S007', 'S001', 'S009'}\n"
     ]
    }
   ],
   "source": [
    "#3. Write a Python program to print all unique values in a dictionary\n",
    "#Sample Data : [{\"V\":\"S001\"}, {\"V\": \"S002\"}, {\"VI\": \"S001\"}, {\"VI\": \"S005\"}, {\"VII\":\"S005\"}, {\"V\":\"S009\"},{\"VIII\":\"S007\"}]\n",
    "#Expected Output : Unique Values: {'S005', 'S002', 'S007', 'S001', 'S009'}\n",
    "\n",
    "List = [{\"V\":\"S001\"}, {\"V\": \"S002\"}, {\"VI\": \"S001\"}, {\"VI\": \"S005\"}, {\"VII\":\"S005\"}, {\"V\":\"S009\"},{\"VIII\":\"S007\"}]\n",
    "unique = set( val for dic in List for val in dic.values())\n",
    "print(\"unique Values: \",unique)"
   ]
  },
  {
   "cell_type": "code",
   "execution_count": 43,
   "metadata": {},
   "outputs": [
    {
     "name": "stdout",
     "output_type": "stream",
     "text": [
      "ac ad bc bd "
     ]
    }
   ],
   "source": [
    "#4. Write a Python program to create and display all combinations of letters, selecting each letter from a different key in a dictionary.\n",
    "#Sample data : {'1':['a','b'], '2':['c','d']} ###### Expected Output: ac ad bc bd\n",
    "List={'1':['a','b'], '2':['c','d']}\n",
    "List1 = List.get('1')\n",
    "List2= List.get('2')\n",
    "for i in range(2):\n",
    "   for j in range(2):          \n",
    "      print(List1[i]+List2[j],end=' ')"
   ]
  },
  {
   "cell_type": "code",
   "execution_count": 48,
   "metadata": {},
   "outputs": [
    {
     "name": "stdout",
     "output_type": "stream",
     "text": [
      "{'W': 1, '3': 1, 'r': 2, 'e': 2, 's': 2, 'o': 1, 'u': 1, 'c': 1}\n"
     ]
    }
   ],
   "source": [
    "#5. Write a Python program to create a dictionary from a string.\n",
    "#Note: Track the count of the letters from the string.\n",
    "#Sample string : 'w3resource'\n",
    "#Expected output: {'3': 1, 's': 1, 'r': 2, 'u': 1, 'w': 1, 'c': 1, 'e': 2, 'o': 1}\n",
    "dic={}\n",
    "string=\"W3resources\"\n",
    "for i in string:\n",
    "    dic[i]=string.count(i)\n",
    "print(dic)\n"
   ]
  },
  {
   "cell_type": "code",
   "execution_count": 49,
   "metadata": {},
   "outputs": [
    {
     "name": "stdout",
     "output_type": "stream",
     "text": [
      "2\n"
     ]
    }
   ],
   "source": [
    "#6. Write a Python program to count the values associated with key in a dictionary.\n",
    "#Sample data: = [{'id': 1, 'success': True, 'name': 'Lary'}, {'id': 2, 'success': False, 'name': 'Rabi'}, {'id': 3, 'success': True, 'name': 'Alex'}]\n",
    "#Expected result: Count of how many dictionaries have success as True\n",
    "count=0\n",
    "List = [{'id': 1, 'success': True, 'name': 'Lary'}, {'id': 2, 'success': False, 'name': 'Rabi'}, {'id': 3, 'success': True, 'name': 'Alex'}]\n",
    "for key in List:\n",
    "    val=key.get('success')\n",
    "    if(val==True):\n",
    "        count+=1\n",
    "print(count)"
   ]
  },
  {
   "cell_type": "code",
   "execution_count": 50,
   "metadata": {},
   "outputs": [
    {
     "name": "stdout",
     "output_type": "stream",
     "text": [
      "{0: {9: {8: {7: {6: {}}}}}}\n"
     ]
    }
   ],
   "source": [
    "#7. Write a Python program to convert a list into a nested dictionary of keys.\n",
    "List = [0,9,8,7,6]\n",
    "dic = dic2 = {}\n",
    "for name in List:\n",
    "    dic2[name] = {}\n",
    "    dic2 = dic2[name]\n",
    "print(dic)"
   ]
  },
  {
   "cell_type": "code",
   "execution_count": 51,
   "metadata": {},
   "outputs": [
    {
     "name": "stdout",
     "output_type": "stream",
     "text": [
      "[('Chemistry', 87), ('Physics', 83), ('Math', 81)]\n"
     ]
    }
   ],
   "source": [
    "#9. Write a Python program to sort Counter by value.\n",
    "#Sample data : {'Math':81, 'Physics':83, 'Chemistry':87}\n",
    "#Expected data: [('Chemistry', 87), ('Physics', 83), ('Math', 81)]\n",
    "from collections import Counter\n",
    "dic = Counter({'Math':81, 'Physics':83, 'Chemistry':87})\n",
    "print(dic.most_common())"
   ]
  },
  {
   "cell_type": "code",
   "execution_count": 52,
   "metadata": {},
   "outputs": [
    {
     "name": "stdout",
     "output_type": "stream",
     "text": [
      "key1: 1 is present in both dic1 and dic2\n"
     ]
    }
   ],
   "source": [
    "#10. Write a Python program to match key values in two dictionaries. Go to the editor\n",
    "#Sample dictionary: {'key1': 1, 'key2': 3, 'key3': 2}, {'key1': 1, 'key2': 2}\n",
    "#Expected output: key1: 1 is present in both x and y\n",
    "dic1 = {'key1': 1, 'key2': 3, 'key3': 2}\n",
    "dic2 = {'key1': 1, 'key2': 2}\n",
    "for (key, value) in set(dic1.items()) & set(dic2.items()):\n",
    "    print('%s: %s is present in both dic1 and dic2' % (key, value))"
   ]
  },
  {
   "cell_type": "code",
   "execution_count": 53,
   "metadata": {},
   "outputs": [
    {
     "name": "stdout",
     "output_type": "stream",
     "text": [
      "(1, '@Shahnawaz', 'python', 3.7)\n"
     ]
    }
   ],
   "source": [
    "#Python Data Types: Tuple - Exercises\n",
    "#1. Write a Python program to create a tuple with different data types\n",
    "tup=(1,\"@Shahnawaz\",\"python\",3.7)\n",
    "print(tup)"
   ]
  },
  {
   "cell_type": "code",
   "execution_count": 54,
   "metadata": {},
   "outputs": [
    {
     "name": "stdout",
     "output_type": "stream",
     "text": [
      "(1, '@Shahnawaz', 'python', 3.7, 'Shanya')\n"
     ]
    }
   ],
   "source": [
    "#2. Write a Python program to add an item in a tuple\n",
    "tup=(1,\"@Shahnawaz\",\"python\",3.7)\n",
    "tup=tup+(\"Shanya\",)\n",
    "print(tup)"
   ]
  },
  {
   "cell_type": "code",
   "execution_count": 55,
   "metadata": {},
   "outputs": [
    {
     "name": "stdout",
     "output_type": "stream",
     "text": [
      "1@Shahnawazpython3.7"
     ]
    }
   ],
   "source": [
    "#3. Write a Python program to convert a tuple to a string.\n",
    "tup=(1,\"@Shahnawaz\",\"python\",3.7)\n",
    "for i in tup:\n",
    "    print(i,end=\"\")"
   ]
  },
  {
   "cell_type": "code",
   "execution_count": 56,
   "metadata": {},
   "outputs": [
    {
     "name": "stdout",
     "output_type": "stream",
     "text": [
      "Shanya\n"
     ]
    }
   ],
   "source": [
    "#4. Write a Python program to find the repeated items of a tuple\n",
    "tup=(1,\"@Shahnawaz\",\"python\",3.7,\"Shanya\",\"Shanya\")\n",
    "tup1=list(tup)\n",
    "tup2=[]\n",
    "for i in tup1:\n",
    "    if i not in tup2:\n",
    "        tup2.append(i)\n",
    "    else:\n",
    "        print(i)"
   ]
  },
  {
   "cell_type": "code",
   "execution_count": 57,
   "metadata": {},
   "outputs": [
    {
     "name": "stdout",
     "output_type": "stream",
     "text": [
      "5\n"
     ]
    }
   ],
   "source": [
    "#5. Write a Python program to find the length of a tuple.\n",
    "tup=(1,\"@Shahnawaz\",\"Python\",3.7,\"Shanya\")\n",
    "print(len(tup))"
   ]
  },
  {
   "cell_type": "code",
   "execution_count": 58,
   "metadata": {},
   "outputs": [
    {
     "name": "stdout",
     "output_type": "stream",
     "text": [
      "{1: 1, 'Shahnawaz': 'Shahnawaz', 3.7: 3.7, 'python': 'python', 'Shanya': 'Shanya'}\n"
     ]
    }
   ],
   "source": [
    "#6. Write a Python program to convert a tuple to a dictionary.\n",
    "tup=(1,\"Shahnawaz\",3.7,\"python\",\"Shanya\")\n",
    "dic={}\n",
    "for i in tup:\n",
    "    dic[i]=i\n",
    "print(dic)"
   ]
  },
  {
   "cell_type": "code",
   "execution_count": 59,
   "metadata": {},
   "outputs": [
    {
     "name": "stdout",
     "output_type": "stream",
     "text": [
      "[(10, 20, 100), (40, 50, 100), (70, 80, 100)]\n"
     ]
    }
   ],
   "source": [
    "#7. Write a Python program to replace last value of tuples in a list.\n",
    "#Sample list: [(10, 20, 40), (40, 50, 60), (70, 80, 90)]\n",
    "#Expected Output: [(10, 20, 100), (40, 50, 100), (70, 80, 100)]\n",
    "List=[(10, 20, 40), (40, 50, 60), (70, 80, 90)]\n",
    "List1=[]\n",
    "for i in List:\n",
    "    List1.append(i[:-1] + (100,))\n",
    "print(List1)"
   ]
  },
  {
   "cell_type": "code",
   "execution_count": 60,
   "metadata": {},
   "outputs": [
    {
     "name": "stdout",
     "output_type": "stream",
     "text": [
      "[('item3', '24.5'), ('item2', '15.10'), ('item1', '12.20')]\n"
     ]
    }
   ],
   "source": [
    "#9. Write a Python program to sort a tuple by its float element.\n",
    "#Sample data: [('item1', '12.20'), ('item2', '15.10'), ('item3', '24.5')]\n",
    "#Expected Output: [('item3', '24.5'), ('item2', '15.10'), ('item1', '12.20')]\n",
    "List= [('item1', '12.20'), ('item2', '15.10'), ('item3', '24.5')]\n",
    "List.sort(reverse=True)\n",
    "print(List)"
   ]
  },
  {
   "cell_type": "code",
   "execution_count": 61,
   "metadata": {},
   "outputs": [
    {
     "name": "stdout",
     "output_type": "stream",
     "text": [
      "4\n"
     ]
    }
   ],
   "source": [
    "#10. Write a Python program to count the elements in a list until an element is a tuple\n",
    "count=0\n",
    "List= [1,2,4,\"A\",('item1', '12.20'),6,9,('item2', '15.10')]\n",
    "for i in List:\n",
    "    if(type(i)==tuple):\n",
    "        break\n",
    "    else:\n",
    "        count+=1\n",
    "print(count)\n"
   ]
  },
  {
   "cell_type": "code",
   "execution_count": 62,
   "metadata": {},
   "outputs": [
    {
     "name": "stdout",
     "output_type": "stream",
     "text": [
      "Number of Even numbers = 4\n",
      "Number of Odd numbers = 5\n"
     ]
    }
   ],
   "source": [
    "#Python Conditional Statements and loops\n",
    "#1. Write a Python program to count the number of even and odd numbers from a series of numbers.\n",
    "#Sample numbers : numbers = (1, 2, 3, 4, 5, 6, 7, 8, 9) ##### Expected Output :\n",
    "#Number of even numbers : 5\n",
    "#Number of odd numbers : 4\n",
    "n=(1,2,3,4,5,6,7,8,9)\n",
    "count1=0\n",
    "count2=0\n",
    "for i in n:\n",
    "    if(i%2==0):\n",
    "        count1+=1\n",
    "    else:\n",
    "        count2+=1\n",
    "print(\"Number of Even numbers =\",count1)\n",
    "print(\"Number of Odd numbers =\",count2)"
   ]
  },
  {
   "cell_type": "code",
   "execution_count": 63,
   "metadata": {},
   "outputs": [
    {
     "name": "stdout",
     "output_type": "stream",
     "text": [
      "0 1 2 4 5 "
     ]
    }
   ],
   "source": [
    "#2. Write a Python program that prints all the numbers from 0 to 6 except 3 and 6.\n",
    "#Note : Use 'continue' statement.\n",
    "#Expected Output : 0 1 2 4 5\n",
    "for i in range(6):\n",
    "    if(i==3):\n",
    "        continue\n",
    "    else:\n",
    "        print(i,end=\" \")"
   ]
  },
  {
   "cell_type": "code",
   "execution_count": 64,
   "metadata": {},
   "outputs": [
    {
     "name": "stdout",
     "output_type": "stream",
     "text": [
      "1 1 2 3 5 8 13 21 34 "
     ]
    }
   ],
   "source": [
    "#3. Write a Python program to get the Fibonacci series between 0 to 50.\n",
    "#Note : The Fibonacci Sequence is the series of numbers :\n",
    "#0, 1, 1, 2, 3, 5, 8, 13, 21, ....\n",
    "#Every next number is found by adding up the two numbers before it.\n",
    "#Expected Output : 1 1 2 3 5 8 13 21 34\n",
    "a=0\n",
    "b=1\n",
    "while b<50:\n",
    "    print(b,end=\" \")\n",
    "    a,b = b,a+b"
   ]
  },
  {
   "cell_type": "code",
   "execution_count": 65,
   "metadata": {},
   "outputs": [
    {
     "name": "stdout",
     "output_type": "stream",
     "text": [
      "[200, 202, 204, 206, 208, 220, 222, 224, 226, 228, 240, 242, 244, 246, 248, 260, 262, 264, 266, 268, 280, 282, 284, 286, 288, 400]\n"
     ]
    }
   ],
   "source": [
    "#4. Write a Python program to find numbers between 100 and 400 (both included) where each digit of a number is an even number. The numbers obtained should be printed in a comma-separated sequence\n",
    "List=[]\n",
    "for i in range(100,401):\n",
    "    s=str(i)\n",
    "    if(int(s[0])%2==0 and int(s[1])%2==0 and int(s[2])%2==0):\n",
    "      List.append(i)\n",
    "print(List)"
   ]
  },
  {
   "cell_type": "code",
   "execution_count": 66,
   "metadata": {},
   "outputs": [
    {
     "name": "stdout",
     "output_type": "stream",
     "text": [
      "Enter a number:9\n",
      "9 x 1  = 9\n",
      "9 x 2  = 18\n",
      "9 x 3  = 27\n",
      "9 x 4  = 36\n",
      "9 x 5  = 45\n",
      "9 x 6  = 54\n",
      "9 x 7  = 63\n",
      "9 x 8  = 72\n",
      "9 x 9  = 81\n",
      "9 x 10  = 90\n"
     ]
    }
   ],
   "source": [
    "#5. Write a Python program to create the multiplication table (from 1 to 10) of a number.\n",
    "n=int(input(\"Enter a number:\"))\n",
    "for i in range(1,11):\n",
    "    print(n,\"x\",i,\" =\",n*i)"
   ]
  },
  {
   "cell_type": "code",
   "execution_count": 67,
   "metadata": {},
   "outputs": [
    {
     "name": "stdout",
     "output_type": "stream",
     "text": [
      "enter a,b,c values separeted by space :2 5 9\n",
      "9 is greater number\n"
     ]
    }
   ],
   "source": [
    "#Python functions - Exercises\n",
    "#1. Write a Python function to find the Max of three numbers.\n",
    "def maximum(a,b,c):\n",
    "    if(a>b):\n",
    "        if(a>c):\n",
    "            print(a,\"is greater number\")\n",
    "        else:\n",
    "            print(c,\"is the greater number\")\n",
    "    else:\n",
    "        if(b>c):\n",
    "            print(b,\"is greater number\")\n",
    "        else:\n",
    "            print(c,\"is greater number\")\n",
    "          \n",
    "a,b,c=input(\"enter a,b,c values separeted by space :\").split(\" \")\n",
    "a=int(a)\n",
    "b=int(b)\n",
    "c=int(c)            \n",
    "maximum(a,b,c)"
   ]
  },
  {
   "cell_type": "code",
   "execution_count": 68,
   "metadata": {},
   "outputs": [
    {
     "name": "stdout",
     "output_type": "stream",
     "text": [
      "Sum of all numbers in list is = 45\n"
     ]
    }
   ],
   "source": [
    "#2. Write a Python function to sum all the numbers in a list.\n",
    "def sum(lst):\n",
    "    s=0\n",
    "    for i in lst:\n",
    "        s=s+i\n",
    "    print(\"Sum of all numbers in list is =\",s)\n",
    "    \n",
    "List=[1,2,3,4,5,6,7,8,9]\n",
    "sum(List)"
   ]
  },
  {
   "cell_type": "code",
   "execution_count": 69,
   "metadata": {},
   "outputs": [
    {
     "name": "stdout",
     "output_type": "stream",
     "text": [
      "multiplication of all numbers in list is = 362880\n"
     ]
    }
   ],
   "source": [
    "#3. Write a Python function to multiply all the numbers in a list.\n",
    "def multiply(List):\n",
    "    s=1\n",
    "    for i in List:\n",
    "        s=s*i\n",
    "    print(\"multiplication of all numbers in list is =\",s) \n",
    "List=[1,2,3,4,5,6,7,8,9]\n",
    "multiply(List)"
   ]
  },
  {
   "cell_type": "code",
   "execution_count": 70,
   "metadata": {},
   "outputs": [
    {
     "name": "stdout",
     "output_type": "stream",
     "text": [
      "Enter a string :Shahnawaz\n",
      "upper case letter count = 1\n",
      "lower case letter count = 8\n"
     ]
    }
   ],
   "source": [
    "#4. Write a Python function that accepts a string and calculate the number of upper case letters and lower case letters\n",
    "def check(string):\n",
    "     count1=0\n",
    "     count2=0\n",
    "     for i in string:\n",
    "         if(i==' '):\n",
    "             continue\n",
    "         elif(i.upper()==i):\n",
    "             count1+=1\n",
    "         else:\n",
    "             count2+=1\n",
    "     print(\"upper case letter count =\",count1)\n",
    "     print(\"lower case letter count =\",count2)\n",
    "         \n",
    "string=input(\"Enter a string :\")     \n",
    "check(string)"
   ]
  },
  {
   "cell_type": "code",
   "execution_count": 72,
   "metadata": {},
   "outputs": [
    {
     "name": "stdout",
     "output_type": "stream",
     "text": [
      "2 4 6 8 "
     ]
    }
   ],
   "source": [
    "#5. Write a Python program to print the even numbers from a given list\n",
    "def evennum(List):\n",
    "    for i in List:\n",
    "        if(i%2==0):\n",
    "            print(i,end=\" \")\n",
    "\n",
    "\n",
    "List=[1,2,3,4,5,6,7,8,9]\n",
    "evennum(List)\n"
   ]
  }
 ],
 "metadata": {
  "kernelspec": {
   "display_name": "Python 3",
   "language": "python",
   "name": "python3"
  },
  "language_info": {
   "codemirror_mode": {
    "name": "ipython",
    "version": 3
   },
   "file_extension": ".py",
   "mimetype": "text/x-python",
   "name": "python",
   "nbconvert_exporter": "python",
   "pygments_lexer": "ipython3",
   "version": "3.7.0"
  }
 },
 "nbformat": 4,
 "nbformat_minor": 2
}
